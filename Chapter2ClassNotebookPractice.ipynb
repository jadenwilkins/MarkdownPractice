{
 "cells": [
  {
   "cell_type": "code",
   "execution_count": 1,
   "id": "c70bda97",
   "metadata": {},
   "outputs": [
    {
     "name": "stdout",
     "output_type": "stream",
     "text": [
      "6\n"
     ]
    }
   ],
   "source": [
    "a=3\n",
    "b=a*2 \n",
    "print(b)"
   ]
  },
  {
   "cell_type": "code",
   "execution_count": 2,
   "id": "7d931f53",
   "metadata": {},
   "outputs": [
    {
     "name": "stdout",
     "output_type": "stream",
     "text": [
      "4\n"
     ]
    }
   ],
   "source": [
    "a=1\n",
    "b=3+a\n",
    "print(b)"
   ]
  },
  {
   "cell_type": "code",
   "execution_count": 3,
   "id": "a80d4876",
   "metadata": {},
   "outputs": [
    {
     "name": "stdout",
     "output_type": "stream",
     "text": [
      "Hello how are you today\n"
     ]
    }
   ],
   "source": [
    "print(\"Hello how are you today\")"
   ]
  },
  {
   "cell_type": "markdown",
   "id": "299c406b",
   "metadata": {},
   "source": [
    "# Heading1   "
   ]
  },
  {
   "cell_type": "markdown",
   "id": "c1388f8e",
   "metadata": {},
   "source": [
    "## Heading2"
   ]
  },
  {
   "cell_type": "markdown",
   "id": "1b42d763",
   "metadata": {},
   "source": [
    "### Heading3"
   ]
  },
  {
   "cell_type": "markdown",
   "id": "e4ac7917",
   "metadata": {},
   "source": [
    "#### Heading4\n"
   ]
  },
  {
   "cell_type": "markdown",
   "id": "23b691bd",
   "metadata": {},
   "source": [
    "#### Heading5"
   ]
  },
  {
   "cell_type": "markdown",
   "id": "a346e5f6",
   "metadata": {},
   "source": [
    "#### Heading6"
   ]
  },
  {
   "cell_type": "markdown",
   "id": "3b34032f",
   "metadata": {},
   "source": [
    ">This is a good day"
   ]
  },
  {
   "cell_type": "markdown",
   "id": "33a59cfa",
   "metadata": {},
   "source": [
    "* info 1\n"
   ]
  },
  {
   "cell_type": "markdown",
   "id": "166a36ad",
   "metadata": {},
   "source": [
    "1. info 1numbered"
   ]
  },
  {
   "cell_type": "markdown",
   "id": "9ba3de72",
   "metadata": {},
   "source": [
    "2. info 2numbered"
   ]
  },
  {
   "cell_type": "markdown",
   "id": "dfb9ef91",
   "metadata": {},
   "source": [
    "**Bold words**"
   ]
  },
  {
   "cell_type": "markdown",
   "id": "f1ff91d1",
   "metadata": {},
   "source": [
    "*italicized words*"
   ]
  },
  {
   "cell_type": "markdown",
   "id": "d903f5f4",
   "metadata": {},
   "source": [
    "`info3`"
   ]
  },
  {
   "cell_type": "markdown",
   "id": "b86a9167",
   "metadata": {},
   "source": [
    "<a href=\"https://www.google.com/\">`this link`</a>"
   ]
  },
  {
   "cell_type": "markdown",
   "id": "47b05ac0",
   "metadata": {},
   "source": [
    "![Pthyon Logo](https://1x0kmx3x6n146iw8223m9fi1-wpengine.netdna-ssl.com/wp-content/uploads/2017/01/bellarmine-university2-700x467.jpg)"
   ]
  },
  {
   "cell_type": "code",
   "execution_count": null,
   "id": "3f0ce76e",
   "metadata": {},
   "outputs": [],
   "source": []
  }
 ],
 "metadata": {
  "kernelspec": {
   "display_name": "Python 3 (ipykernel)",
   "language": "python",
   "name": "python3"
  },
  "language_info": {
   "codemirror_mode": {
    "name": "ipython",
    "version": 3
   },
   "file_extension": ".py",
   "mimetype": "text/x-python",
   "name": "python",
   "nbconvert_exporter": "python",
   "pygments_lexer": "ipython3",
   "version": "3.9.12"
  }
 },
 "nbformat": 4,
 "nbformat_minor": 5
}
